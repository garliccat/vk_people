{
 "cells": [
  {
   "cell_type": "markdown",
   "metadata": {},
   "source": [
    "## VK parsed data processing"
   ]
  },
  {
   "cell_type": "code",
   "execution_count": 45,
   "metadata": {},
   "outputs": [],
   "source": [
    "import pandas as pd\n",
    "import numpy as np\n",
    "import re\n",
    "from matplotlib import pyplot as plt\n",
    "import seaborn as sns\n",
    "import datetime\n",
    "from collections import Counter\n",
    "\n",
    "sns.set()\n",
    "%matplotlib inline"
   ]
  },
  {
   "cell_type": "code",
   "execution_count": 42,
   "metadata": {},
   "outputs": [],
   "source": [
    "def moviesmusic(raw):\n",
    "    if raw is not np.nan:\n",
    "        raw = re.sub('[\":«»]', '', raw)\n",
    "        raw = raw.lower()\n",
    "        temp = []\n",
    "        for i in re.split(r'[,\\;]+', raw):\n",
    "            i = re.sub(r'\\(.+\\)', '', i)\n",
    "            if i != ' ' and not bool(re.match(r'^\\d+|^\\s+', i.strip())):\n",
    "                temp.append(i.strip())\n",
    "            else:\n",
    "                continue\n",
    "        return temp\n",
    "\n",
    "\n",
    "def bdays(raw, type='day'):\n",
    "    raw = str(raw)\n",
    "    if raw == np.nan or raw == 'nan':\n",
    "        return np.nan\n",
    "    if type == 'day':\n",
    "        return np.int64(raw.split('.')[0].strip())\n",
    "    elif len(raw.split('.')) == 2 and type == 'month':\n",
    "        return np.int64(raw.split('.')[1].strip())\n",
    "    elif len(raw.split('.')) == 3 and type == 'month':\n",
    "        return np.int64(raw.split('.')[1].strip())\n",
    "    elif len(raw.split('.')) == 3 and type == 'year':\n",
    "        return np.int64(raw.split('.')[2].strip())\n",
    "    else:\n",
    "        return np.nan\n",
    "\n",
    "\n",
    "def adopttocal(art):\n",
    "    #########################################################################\n",
    "    # function builds dictionary of Counters.                               #\n",
    "    # key is the item and the value is counter in which                     #\n",
    "    # it counts all the occurences with other items                         #\n",
    "    # then, getting the item(art, name, or whatever) by key                 #\n",
    "    # you will get the Counter (sorted by number of occurences eventually)  #\n",
    "    # with all the recommended items                                        #\n",
    "    # NOTE: to collect this dict it requires the big datasets               #\n",
    "    #########################################################################\n",
    "    for item in art:\n",
    "        if item in catalog.keys():\n",
    "            temp = catalog[item]\n",
    "            for item_2 in art:\n",
    "                if item_2 != item: # exclude self counting\n",
    "                    temp[item_2] += 1\n",
    "        else:\n",
    "            temp = Counter()\n",
    "            for item_2 in art:\n",
    "                if item_2 != item: # exclude self counting\n",
    "                    temp[item_2] += 1\n",
    "            catalog[item] = temp"
   ]
  },
  {
   "cell_type": "code",
   "execution_count": 36,
   "metadata": {},
   "outputs": [],
   "source": [
    "df = pd.read_csv('vk.csv', sep=';', header=None)\n",
    "df.columns = ['uid', 'name', 'surname', 'sex', 'country', 'city', 'bday', 'music', 'movies']\n",
    "df['sex'] = df['sex'].astype(dtype='Int64')"
   ]
  },
  {
   "cell_type": "markdown",
   "metadata": {},
   "source": [
    "### Music analyse block"
   ]
  },
  {
   "cell_type": "code",
   "execution_count": 37,
   "metadata": {},
   "outputs": [],
   "source": [
    "df['music'] = df['music'].apply(lambda x: moviesmusic(x))\n",
    "df2 = df[['sex', 'music']].dropna()\n",
    "df2 = df2.explode('music', ignore_index=True)"
   ]
  },
  {
   "cell_type": "code",
   "execution_count": 38,
   "metadata": {},
   "outputs": [
    {
     "data": {
      "text/plain": [
       "рок             4535\n",
       "кино            3739\n",
       "ария            3415\n",
       "сплин           3356\n",
       "linkin park     3056\n",
       "ддт             3036\n",
       "queen           2911\n",
       "metallica       2820\n",
       "классика        2634\n",
       "muse            2598\n",
       "house           2598\n",
       "nightwish       2575\n",
       "pink floyd      2480\n",
       "rammstein       2439\n",
       "nirvana         2256\n",
       "разная          2226\n",
       "мельница        2150\n",
       "джаз            2013\n",
       "depeche mode    1951\n",
       "trance          1930\n",
       "Name: music, dtype: int64"
      ]
     },
     "execution_count": 38,
     "metadata": {},
     "output_type": "execute_result"
    }
   ],
   "source": [
    "df2['music'].value_counts().head(20)"
   ]
  },
  {
   "cell_type": "code",
   "execution_count": 39,
   "metadata": {},
   "outputs": [
    {
     "name": "stdout",
     "output_type": "stream",
     "text": [
      "Groups: ['pink floyd']\n",
      "Number of records: 2480\n",
      "\n"
     ]
    },
    {
     "data": {
      "text/html": [
       "<div>\n",
       "<style scoped>\n",
       "    .dataframe tbody tr th:only-of-type {\n",
       "        vertical-align: middle;\n",
       "    }\n",
       "\n",
       "    .dataframe tbody tr th {\n",
       "        vertical-align: top;\n",
       "    }\n",
       "\n",
       "    .dataframe thead th {\n",
       "        text-align: right;\n",
       "    }\n",
       "</style>\n",
       "<table border=\"1\" class=\"dataframe\">\n",
       "  <thead>\n",
       "    <tr style=\"text-align: right;\">\n",
       "      <th></th>\n",
       "      <th>sex</th>\n",
       "      <th>music</th>\n",
       "    </tr>\n",
       "  </thead>\n",
       "  <tbody>\n",
       "    <tr>\n",
       "      <th>0</th>\n",
       "      <td>female</td>\n",
       "      <td>23.709677</td>\n",
       "    </tr>\n",
       "    <tr>\n",
       "      <th>1</th>\n",
       "      <td>male</td>\n",
       "      <td>76.290323</td>\n",
       "    </tr>\n",
       "  </tbody>\n",
       "</table>\n",
       "</div>"
      ],
      "text/plain": [
       "      sex      music\n",
       "0  female  23.709677\n",
       "1    male  76.290323"
      ]
     },
     "execution_count": 39,
     "metadata": {},
     "output_type": "execute_result"
    }
   ],
   "source": [
    "groups = ['pink floyd']\n",
    "\n",
    "df2 = df2[df2['music'].isin(groups)]\n",
    "print('Groups: {}\\nNumber of records: {}\\n'.format(groups, df2.shape[0]))\n",
    "\n",
    "df2 = df2.groupby('sex', as_index=False).count()\n",
    "df2['sex'] = df2['sex'].map({2: 'male', 1: 'female'})\n",
    "df2['music'] = df2['music'] / df2['music'].sum() * 100\n",
    "df2"
   ]
  },
  {
   "cell_type": "code",
   "execution_count": 57,
   "metadata": {},
   "outputs": [],
   "source": [
    "df2 = df['movies'].dropna().apply(lambda x: moviesmusic(x))\n",
    "df2['movies'] = df2.explode('movies')"
   ]
  },
  {
   "cell_type": "code",
   "execution_count": 69,
   "metadata": {},
   "outputs": [],
   "source": [
    "top_movies = df2['movies'].value_counts().head(20)"
   ]
  },
  {
   "cell_type": "code",
   "execution_count": 73,
   "metadata": {},
   "outputs": [
    {
     "data": {
      "image/png": "[encoded data removed]",
      "text/plain": [
       "<Figure size 864x432 with 1 Axes>"
      ]
     },
     "metadata": {
      "needs_background": "light"
     },
     "output_type": "display_data"
    }
   ],
   "source": [
    "plt.figure(figsize=(12, 6))\n",
    "sns.barplot(orient='h', x=top_movies.values, y=top_movies.index)\n",
    "plt.title('Самые популярные фильмы')\n",
    "plt.xlabel('Количество упоминаний')\n",
    "plt.ylabel('Название фильма');"
   ]
  },
  {
   "cell_type": "code",
   "execution_count": 46,
   "metadata": {},
   "outputs": [
    {
     "data": {
      "text/plain": [
       "0          None\n",
       "5          None\n",
       "9          None\n",
       "19         None\n",
       "21         None\n",
       "           ... \n",
       "2012342    None\n",
       "2012347    None\n",
       "2012351    None\n",
       "2012384    None\n",
       "2012397    None\n",
       "Name: movies, Length: 149506, dtype: object"
      ]
     },
     "execution_count": 46,
     "metadata": {},
     "output_type": "execute_result"
    }
   ],
   "source": [
    "catalog = {}\n",
    "df2 = df['movies'].dropna().apply(lambda x: moviesmusic(x))\n",
    "df2.apply(adopttocal)"
   ]
  },
  {
   "cell_type": "code",
   "execution_count": 55,
   "metadata": {},
   "outputs": [
    {
     "name": "stdout",
     "output_type": "stream",
     "text": [
      "\n",
      "Top 10 recommended items for  луна :\n",
      "игры разума\n",
      "остров\n",
      "достучаться до небес\n",
      "полночь в париже\n",
      "чужой\n",
      "день сурка\n",
      "гаттака\n",
      "назад в будущее\n",
      "револьвер\n",
      "криминальное чтиво\n"
     ]
    }
   ],
   "source": [
    "rec_number = 10\n",
    "art_number = 9\n",
    "print('\\nTop {} recommended items for '.format(str(rec_number)), list(catalog.keys())[art_number], ':')\n",
    "# print('\\n', catalog[list(catalog.keys())[5]].most_common(5))\n",
    "for art, _ in catalog[list(catalog.keys())[art_number]].most_common(rec_number):\n",
    "    print(art)"
   ]
  },
  {
   "cell_type": "code",
   "execution_count": 89,
   "metadata": {},
   "outputs": [
    {
     "data": {
      "text/html": [
       "<div>\n",
       "<style scoped>\n",
       "    .dataframe tbody tr th:only-of-type {\n",
       "        vertical-align: middle;\n",
       "    }\n",
       "\n",
       "    .dataframe tbody tr th {\n",
       "        vertical-align: top;\n",
       "    }\n",
       "\n",
       "    .dataframe thead th {\n",
       "        text-align: right;\n",
       "    }\n",
       "</style>\n",
       "<table border=\"1\" class=\"dataframe\">\n",
       "  <thead>\n",
       "    <tr style=\"text-align: right;\">\n",
       "      <th></th>\n",
       "      <th>year</th>\n",
       "      <th>sex</th>\n",
       "      <th>age</th>\n",
       "    </tr>\n",
       "  </thead>\n",
       "  <tbody>\n",
       "    <tr>\n",
       "      <th>0</th>\n",
       "      <td>1984.0</td>\n",
       "      <td>муж</td>\n",
       "      <td>36</td>\n",
       "    </tr>\n",
       "    <tr>\n",
       "      <th>12</th>\n",
       "      <td>1982.0</td>\n",
       "      <td>муж</td>\n",
       "      <td>38</td>\n",
       "    </tr>\n",
       "    <tr>\n",
       "      <th>16</th>\n",
       "      <td>1985.0</td>\n",
       "      <td>муж</td>\n",
       "      <td>35</td>\n",
       "    </tr>\n",
       "    <tr>\n",
       "      <th>17</th>\n",
       "      <td>1986.0</td>\n",
       "      <td>муж</td>\n",
       "      <td>34</td>\n",
       "    </tr>\n",
       "    <tr>\n",
       "      <th>19</th>\n",
       "      <td>1986.0</td>\n",
       "      <td>муж</td>\n",
       "      <td>34</td>\n",
       "    </tr>\n",
       "  </tbody>\n",
       "</table>\n",
       "</div>"
      ],
      "text/plain": [
       "      year  sex  age\n",
       "0   1984.0  муж   36\n",
       "12  1982.0  муж   38\n",
       "16  1985.0  муж   35\n",
       "17  1986.0  муж   34\n",
       "19  1986.0  муж   34"
      ]
     },
     "execution_count": 89,
     "metadata": {},
     "output_type": "execute_result"
    }
   ],
   "source": [
    "df['year'] = df['bday'].apply(lambda x: bdays(x, type='year'))\n",
    "df2 = df[['year', 'sex']].dropna()\n",
    "df2['age'] = 2020 - df2['year'].astype(np.int64)\n",
    "df2 = df2[df2['age'] < 70]\n",
    "df2['sex'] = df2['sex'].apply(lambda x: 'муж' if x == 2 else 'жен')\n",
    "df2.head()"
   ]
  },
  {
   "cell_type": "code",
   "execution_count": 92,
   "metadata": {},
   "outputs": [
    {
     "data": {
      "image/png": "[encoded data removed]",
      "text/plain": [
       "<Figure size 1152x432 with 1 Axes>"
      ]
     },
     "metadata": {
      "needs_background": "light"
     },
     "output_type": "display_data"
    }
   ],
   "source": [
    "plt.figure(figsize=(16, 6))\n",
    "plt.xticks(rotation=90)\n",
    "sns.countplot(data=df2, x='age', hue='sex')\n",
    "plt.title('Распределение возрастов аудитории VK')\n",
    "plt.xlabel('Возраст')\n",
    "plt.ylabel('Количество')\n",
    "plt.legend(title='Пол')\n",
    "plt.tight_layout()\n",
    "plt.savefig('sex_dist.png')"
   ]
  }
 ],
 "metadata": {
  "kernelspec": {
   "display_name": "Python 3",
   "language": "python",
   "name": "python3"
  },
  "language_info": {
   "codemirror_mode": {
    "name": "ipython",
    "version": 3
   },
   "file_extension": ".py",
   "mimetype": "text/x-python",
   "name": "python",
   "nbconvert_exporter": "python",
   "pygments_lexer": "ipython3",
   "version": "3.8.6"
  }
 },
 "nbformat": 4,
 "nbformat_minor": 4
}
